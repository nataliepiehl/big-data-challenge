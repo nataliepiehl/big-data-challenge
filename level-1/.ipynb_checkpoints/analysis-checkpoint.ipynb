{
 "cells": [
  {
   "cell_type": "markdown",
   "id": "aa45af03-6daf-4f00-9af2-0504720a5db1",
   "metadata": {},
   "source": [
    "## Level 1 - Big Data"
   ]
  },
  {
   "cell_type": "code",
   "execution_count": null,
   "id": "b187ec66-7244-4dac-af1c-8494b7f8f848",
   "metadata": {},
   "outputs": [],
   "source": [
    "import os\n",
    "# Find the latest version of spark 3.0  from http://www.apache.org/dist/spark/ and enter as the spark version\n",
    "# For example:\n",
    "# spark_version = 'spark-3.0.3'\n",
    "spark_version = 'spark-3.2.1'\n",
    "os.environ['SPARK_VERSION']=spark_version\n",
    "\n",
    "# Install Spark and Java\n",
    "!apt-get update\n",
    "!apt-get install openjdk-8-jdk-headless -qq > /dev/null\n",
    "!wget -q http://www.apache.org/dist/spark/$SPARK_VERSION/$SPARK_VERSION-bin-hadoop2.7.tgz\n",
    "!tar xf $SPARK_VERSION-bin-hadoop2.7.tgz\n",
    "!pip install -q findspark\n",
    "\n",
    "# Set Environment Variables\n",
    "os.environ[\"JAVA_HOME\"] = \"/usr/lib/jvm/java-8-openjdk-amd64\"\n",
    "os.environ[\"SPARK_HOME\"] = f\"/content/{spark_version}-bin-hadoop2.7\"\n",
    "\n",
    "# Start a SparkSession\n",
    "import findspark\n",
    "findspark.init()"
   ]
  },
  {
   "cell_type": "code",
   "execution_count": null,
   "id": "f3d462c5-eb1e-45ed-be64-6adaeb1b4448",
   "metadata": {},
   "outputs": [],
   "source": [
    "!wget https://jdbc.postgresql.org/download/postgresql-42.2.9.jar"
   ]
  },
  {
   "cell_type": "code",
   "execution_count": null,
   "id": "33653c34-87f9-41e4-a4a1-8195cc3d162f",
   "metadata": {},
   "outputs": [],
   "source": [
    "# Import modules\n",
    "from pyspark.sql import SparkSession\n",
    "from pyspark import SparkFiles\n",
    "\n",
    "# Build spark session\n",
    "spark = SparkSession.builder.appName(\"CloudETL\").config(\"spark.driver.extraClassPath\",\n",
    "                                                        \"/content/postgresql-42.2.9.jar\").getOrCreate()"
   ]
  },
  {
   "cell_type": "code",
   "execution_count": null,
   "id": "3a40927c-d0b0-400d-8bce-e54812278665",
   "metadata": {},
   "outputs": [],
   "source": [
    "# Load in data\n",
    "base_url = \"https://s3.amazonaws.com/amazon-reviews-pds/tsv/\"\n",
    "file = \"amazon_reviews_us_Pet_Products_v1_00.tsv.gz\"\n",
    "url = base_url + file\n",
    "spark.sparkContext.addFile(url)\n",
    "\n",
    "# Generate df\n",
    "df = spark.read.option('header', 'true').csv(SparkFiles.get(file),\n",
    "                                             inferSchema = True,\n",
    "                                             sep = '\\t',\n",
    "                                             timestampFormat = \"mm/dd/yy\")\n",
    "df.head()"
   ]
  },
  {
   "cell_type": "code",
   "execution_count": null,
   "id": "ec805de2-361f-4962-8e73-d7f1f2baa983",
   "metadata": {},
   "outputs": [],
   "source": [
    "# Clean up data\n",
    "df = df.dropna()\n",
    "df = df.dropDuplicates()"
   ]
  },
  {
   "cell_type": "code",
   "execution_count": null,
   "id": "150a0def-753d-4fc7-9aa7-d7b3ecc60f50",
   "metadata": {},
   "outputs": [],
   "source": [
    "# Count number of rows\n",
    "df.count()"
   ]
  },
  {
   "cell_type": "code",
   "execution_count": null,
   "id": "9ec3419c-ed84-42a3-b72e-25fba996fb67",
   "metadata": {},
   "outputs": [],
   "source": [
    "# Check out schema\n",
    "df.printSchema()"
   ]
  },
  {
   "cell_type": "code",
   "execution_count": null,
   "id": "a7161b7d-f055-4fda-9077-305ba3761b42",
   "metadata": {},
   "outputs": [],
   "source": [
    "# Generate Products df\n",
    "products = df[[\"product_id\", \"product_title\"]]\n",
    "print(products.head())\n",
    "\n",
    "# Configure export\n",
    "mode = \"append\"\n",
    "jdbc_url = \"jdbc:postgresql://rdsdb.cgx5vst360bw.us-east-2.rds.amazonaws.com:5432/dbforbigdata\"\n",
    "config = {\"user\":\"postgres\",\n",
    "          \"password\": \"###\",\n",
    "          \"driver\":\"org.postgresql.Driver\"}\n",
    "\n",
    "# Export\n",
    "products.write.jdbc(url = jdbc_url,\n",
    "                    table = 'products',\n",
    "                    mode = mode,\n",
    "                    properties = config)"
   ]
  },
  {
   "cell_type": "code",
   "execution_count": null,
   "id": "fbd7b51c-515e-42f1-9af9-cf64c54968b5",
   "metadata": {},
   "outputs": [],
   "source": [
    "# Generate Review df\n",
    "review_id_table = df[[\"review_id\", \"customer_id\", \"product_id\", \"product_parent\", \"review_date\"]]\n",
    "print(review_id_table.head())\n",
    "\n",
    "# Export\n",
    "review_id_table.write.jdbc(url = jdbc_url,\n",
    "                           table = 'review_id_table',\n",
    "                           mode = mode,\n",
    "                           properties = config)"
   ]
  },
  {
   "cell_type": "code",
   "execution_count": null,
   "id": "672256d7-f48c-43a9-9d64-99a0ea98f432",
   "metadata": {},
   "outputs": [],
   "source": [
    "# Creat customers table\n",
    "customers = df[\"customer_id\"]\n",
    "customers = customers.groupBy(\"customer_id\").count()\n",
    "customers = customers.withColumnRenamed(\"count\",\"customer_count\")\n",
    "print(customers.head())\n",
    "\n",
    "# Export\n",
    "customers.write.jdbc(url = jdbc_url,\n",
    "                     table = 'customers',\n",
    "                     mode = mode,\n",
    "                     properties = config)"
   ]
  },
  {
   "cell_type": "code",
   "execution_count": null,
   "id": "6ac03bf2-4e05-497b-b0f7-ea3b331c234a",
   "metadata": {},
   "outputs": [],
   "source": [
    "# Create vine table\n",
    "vine_table = df[[\"review_id\", \"star_rating\", \"helpful_votes\", \"total_votes\", \"vine\"]]\n",
    "print(vine_table.head())\n",
    "\n",
    "# Export\n",
    "vine_table.write.jdbc(url = jdbc_url, \n",
    "                      table = 'vine_table', \n",
    "                      mode = mode,\n",
    "                      properties = ßconfig)"
   ]
  }
 ],
 "metadata": {
  "kernelspec": {
   "display_name": "Python 3 (ipykernel)",
   "language": "python",
   "name": "python3"
  },
  "language_info": {
   "codemirror_mode": {
    "name": "ipython",
    "version": 3
   },
   "file_extension": ".py",
   "mimetype": "text/x-python",
   "name": "python",
   "nbconvert_exporter": "python",
   "pygments_lexer": "ipython3",
   "version": "3.9.7"
  }
 },
 "nbformat": 4,
 "nbformat_minor": 5
}
